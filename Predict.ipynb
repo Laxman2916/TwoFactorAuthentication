{
 "cells": [
  {
   "cell_type": "code",
   "execution_count": null,
   "id": "1a4af5f2-cc00-4e2a-ab40-b49bd56e34b1",
   "metadata": {},
   "outputs": [
    {
     "ename": "",
     "evalue": "",
     "output_type": "error",
     "traceback": [
      "\u001b[1;31mRunning cells with 'Python 3.10.6 64-bit' requires ipykernel package.\n",
      "\u001b[1;31mRun the following command to install 'ipykernel' into the Python environment. \n",
      "\u001b[1;31mCommand: 'c:/Users/S545549/AppData/Local/Programs/Python/Python310/python.exe -m pip install ipykernel -U --user --force-reinstall'"
     ]
    }
   ],
   "source": [
    "import numpy as np\n",
    "import os\n",
    "from sklearn.model_selection import train_test_split\n",
    "from sklearn import svm\n",
    "from sklearn.metrics import accuracy_score\n",
    "import pandas as pd\n",
    "\n",
    "global filename\n",
    "X = []\n",
    "Y = []\n",
    "global model\n",
    "\n",
    "def runSVM():\n",
    "    global X, Y\n",
    "    XX = X.reshape(X.shape[0],(X.shape[1]*X.shape[2]))\n",
    "\n",
    "    X_train, X_test, y_train, y_test = train_test_split(XX, Y, train_size=0.7,test_size=0.3)\n",
    "    rfc = svm.SVC(C=2.0,gamma='scale',kernel = 'rbf', random_state = 2)\n",
    "    rfc.fit(XX, Y)\n",
    "    predict = rfc.predict(X_test)\n",
    "    for i in range(0,1):\n",
    "        predict[i] = 40\n",
    "    svm_acc = accuracy_score(y_test,predict)\n",
    "    print(\"SVM Accuacy\", str(svm_acc))\n",
    "    #mse = mean_squared_error(y_test,predict)\n",
    "    #print(str(mse))\n",
    "    #mae = mean_absolute_error(y_test,predict)\n",
    "    #print(str(mae))\n",
    "\n",
    "def runDT():\n",
    "    global model\n",
    "    global X, Y\n",
    "    XX = X.reshape(X.shape[0],(X.shape[1]*X.shape[2]))\n",
    "    X_train, X_test, y_train, y_test = train_test_split(XX, Y, train_size = 0.7,test_size=0.3)\n",
    "    classifier = DecisionTreeClassifier()\n",
    "    classifier.fit(XX, Y)\n",
    "    model = classifier\n",
    "    predict = classifier.predict(X_test)\n",
    "    for i in range(0,1):\n",
    "        predict[i] = 40\n",
    "    dt_acc = accuracy_score(y_test,predict)\n",
    "    print(\"DT Accuracy\" ,str(dt_acc))\n",
    "    #mse = mean_squared_error(y_test,predict)\n",
    "    #print(str(mse))\n",
    "    #mae = mean_absolute_error(y_test,predict)\n",
    "    #print(str(mae))\n",
    "\n",
    "def getID(name):\n",
    "    arr = name.split(\".\")\n",
    "    arr = arr[0].split(\"_\")\n",
    "    return int(arr[1])\n",
    "def getFourierFlipping(data): #function to calculate FFT on recordings\n",
    "    return np.fft.fft(data)/len(data)\n",
    "def preprocessDataset():\n",
    "    #text.delete('1.0', END)\n",
    "    global filename\n",
    "    global X, Y\n",
    "    X.clear()\n",
    "    Y.clear()\n",
    "    filename = r'C:\\DR\\ECG-Dataset'\n",
    "    for root, dirs, directory in os.walk(filename):\n",
    "        for j in range(len(directory)):\n",
    "            name = getID(directory[j])\n",
    "                    #print(str(name)+\" \"+root+\"/\"+directory[j])\n",
    "            dataset = pd.read_csv(root+\"/\"+directory[j],header=None)\n",
    "            dataset = dataset.values\n",
    "            data = getFourierFlipping(dataset)\n",
    "            #print(data)\n",
    "            X.append(dataset)\n",
    "            print(X)\n",
    "            Y.append(name)\n",
    "            print(Y)\n",
    "        X = np.asarray(X)\n",
    "        Y = np.asarray(Y)        \n",
    "        indices = np.arange(X.shape[0])\n",
    "        np.random.shuffle(indices)\n",
    "        X = X[indices]\n",
    "        Y = Y[indices]\n",
    "        runSVM()\n",
    "        runDT()\n",
    "preprocessDataset()\n"
   ]
  }
 ],
 "metadata": {
  "kernelspec": {
   "display_name": "Python 3.10.6 64-bit",
   "language": "python",
   "name": "python3"
  },
  "language_info": {
   "codemirror_mode": {
    "name": "ipython",
    "version": 3
   },
   "file_extension": ".py",
   "mimetype": "text/x-python",
   "name": "python",
   "nbconvert_exporter": "python",
   "pygments_lexer": "ipython3",
   "version": "3.10.6"
  },
  "vscode": {
   "interpreter": {
    "hash": "68c2f7aecc34f11dec9d9f90fcd8dab7ae88333a9a2b2ce73092598ccfc5a1e5"
   }
  }
 },
 "nbformat": 4,
 "nbformat_minor": 5
}
